{
 "cells": [
  {
   "cell_type": "code",
   "execution_count": 1,
   "metadata": {},
   "outputs": [],
   "source": [
    "from whyshift import get_data, degradation_decomp, fetch_model, risk_region\n",
    "from whyshift.folktables import ACSDataSource, ACSEmployment, ACSIncome, ACSPublicCoverage, ACSMobility, ACSTravelTime\n",
    "\n",
    "import numpy as np \n",
    "import torch \n",
    "import random \n",
    "import pickle\n",
    "\n",
    "import tiktoken\n",
    "\n",
    "from dataset import *\n",
    "from preprocess import *\n",
    "from serialize import *\n",
    "from embed import *\n",
    "\n",
    "from joblib import Parallel, delayed"
   ]
  },
  {
   "cell_type": "code",
   "execution_count": 2,
   "metadata": {},
   "outputs": [],
   "source": [
    "import warnings\n",
    "warnings.filterwarnings('ignore')\n",
    "pd.options.mode.chained_assignment = None "
   ]
  },
  {
   "cell_type": "code",
   "execution_count": 3,
   "metadata": {},
   "outputs": [],
   "source": [
    "s = 'AL,AK,AZ,AR,CA,CO,CT,DE,FL,GA,HI,ID,IL,IN,IA,KS,KY,LA,ME,MD,MA,MI,MN,MS,MO,MT,NE,NV,NH,NJ,NM,NY,NC,ND,OH,OK,OR,PA,RI,SC,SD,TN,TX,UT,VT,VA,WA,WV,WI,WY,PR'\n",
    "all_states = s.split(',')"
   ]
  },
  {
   "cell_type": "code",
   "execution_count": 4,
   "metadata": {},
   "outputs": [],
   "source": [
    "def data_processing_ACSIncome(task):\n",
    "    # raw dataset\n",
    "    raw_df = get_raw_df(task.task_name, task.state, root_dir = task.root_dir, year=task.year)\n",
    "    # serialize table\n",
    "    serialize_df = serialize_table(task.data_name, raw_df, target = task.target, group = task.group, root_dir = task.root_dir)\n",
    "    # embedding\n",
    "    # TODO: check how to select data for embedding\n",
    "    embed_table(task, serialize_df.iloc[:50000], root_dir = task.root_dir)\n",
    "    print('data processing finished: {}-{}'.format(task.data_name, task.prompt_method))"
   ]
  },
  {
   "cell_type": "code",
   "execution_count": 5,
   "metadata": {},
   "outputs": [],
   "source": [
    "def data_processing_ACSPubCov(task):\n",
    "    # raw dataset\n",
    "    raw_df = get_raw_df(task.task_name, task.state, root_dir = task.root_dir, year=task.year)\n",
    "    # serialize table\n",
    "    serialize_df = serialize_table(task.data_name, raw_df, target = task.target, group = task.group, root_dir = task.root_dir)\n",
    "    # embedding\n",
    "    # TODO: check how to select data for embedding\n",
    "    embed_table(task, serialize_df.iloc[:50000], root_dir = task.root_dir)\n",
    "    print('data processing finished: {}-{}'.format(task.data_name, task.prompt_method))"
   ]
  },
  {
   "cell_type": "code",
   "execution_count": 6,
   "metadata": {},
   "outputs": [],
   "source": [
    "def data_processing_ACSMobility(task):\n",
    "    # raw dataset\n",
    "    raw_df = get_raw_df(task.task_name, task.state, root_dir = task.root_dir, year=task.year)\n",
    "    # serialize table\n",
    "    serialize_df = serialize_table(task.data_name, raw_df, target = task.target, group = task.group, root_dir = task.root_dir)\n",
    "    # embedding\n",
    "    # TODO: check how to select data for embedding\n",
    "    embed_table(task, serialize_df.iloc[:50000], root_dir = task.root_dir)\n",
    "    print('data processing finished: {}-{}'.format(task.data_name, task.prompt_method))"
   ]
  },
  {
   "cell_type": "code",
   "execution_count": 7,
   "metadata": {},
   "outputs": [],
   "source": [
    "def data_processing(task_name, prompt_method, state, year = 2018, root_dir = None):\n",
    "    if task_name == 'income':\n",
    "        task = ACSIncome\n",
    "        task.task_name = task_name\n",
    "        task.state  = state\n",
    "        task.year = year\n",
    "        task.data_name = 'ACSIncome-{}-{}'.format(state, year)\n",
    "        task.prompt_method = prompt_method\n",
    "        task.root_dir = root_dir\n",
    "        return data_processing_ACSIncome(task)\n",
    "    elif task_name =='pubcov':\n",
    "        task = ACSPublicCoverage\n",
    "        task.task_name = task_name\n",
    "        task.state = state\n",
    "        task.year = year\n",
    "        task.data_name = 'ACSPubCov-{}-{}'.format(state, year)\n",
    "        task.prompt_method = prompt_method\n",
    "        task.root_dir = root_dir\n",
    "        return data_processing_ACSPubCov(task)\n",
    "    elif task_name == 'mobility':\n",
    "        task = ACSMobility\n",
    "        task.task_name = task_name\n",
    "        task.state = state\n",
    "        task.year = year\n",
    "        task.data_name = 'ACSMobility-{}-{}'.format(state, year)\n",
    "        task.prompt_method = prompt_method\n",
    "        task.root_dir = root_dir\n",
    "        return data_processing_ACSMobility(task)"
   ]
  },
  {
   "cell_type": "markdown",
   "metadata": {},
   "source": [
    "### ACSMobility"
   ]
  },
  {
   "cell_type": "code",
   "execution_count": 8,
   "metadata": {},
   "outputs": [],
   "source": [
    "task_name = 'mobility'\n",
    "prompt_method_list = ['domainlabel']\n",
    "\n",
    "if task_name == 'income':\n",
    "    root_dir = '/shared/share_mala/llm-dro/income'\n",
    "elif task_name == 'pubcov':\n",
    "    root_dir = '/shared/share_mala/llm-dro/pubcov'\n",
    "elif task_name == 'mobility':\n",
    "    root_dir = '/shared/share_mala/llm-dro/mobility'\n"
   ]
  },
  {
   "cell_type": "code",
   "execution_count": null,
   "metadata": {},
   "outputs": [],
   "source": [
    "for prompt_method in prompt_method_list:\n",
    "    for state in all_states:\n",
    "        data_processing(task_name = task_name, prompt_method=prompt_method, state = state, year = 2018, root_dir=root_dir)"
   ]
  },
  {
   "cell_type": "markdown",
   "metadata": {},
   "source": [
    "### ACSPubCov"
   ]
  },
  {
   "cell_type": "code",
   "execution_count": 10,
   "metadata": {},
   "outputs": [],
   "source": [
    "task_name = 'pubcov'\n",
    "prompt_method_list = ['domainlabel']\n",
    "\n",
    "if task_name == 'income':\n",
    "    root_dir = '/shared/share_mala/llm-dro/income'\n",
    "elif task_name == 'pubcov':\n",
    "    root_dir = '/shared/share_mala/llm-dro/pubcov'\n",
    "elif task_name == 'mobility':\n",
    "    root_dir = '/shared/share_mala/llm-dro/mobility'"
   ]
  },
  {
   "cell_type": "code",
   "execution_count": null,
   "metadata": {},
   "outputs": [],
   "source": [
    "for prompt_method in prompt_method_list:\n",
    "    for state in all_states:\n",
    "        data_processing(task_name = task_name, prompt_method=prompt_method, state = state, year = 2018, root_dir=root_dir)"
   ]
  },
  {
   "cell_type": "markdown",
   "metadata": {},
   "source": [
    "### ACSIncome"
   ]
  },
  {
   "cell_type": "code",
   "execution_count": 12,
   "metadata": {},
   "outputs": [],
   "source": [
    "task_name = 'income'\n",
    "prompt_method_list = ['domainlabel']\n",
    "if task_name == 'income':\n",
    "    root_dir = '/shared/share_mala/llm-dro/income'\n",
    "elif task_name == 'pubcov':\n",
    "    root_dir = '/shared/share_mala/llm-dro/pubcov'\n",
    "elif task_name == 'mobility':\n",
    "    root_dir = '/shared/share_mala/llm-dro/mobility'"
   ]
  },
  {
   "cell_type": "code",
   "execution_count": 13,
   "metadata": {},
   "outputs": [
    {
     "name": "stdout",
     "output_type": "stream",
     "text": [
      "data processing finished: ACSIncome-AL-2018-gpt4\n",
      "data processing finished: ACSIncome-AK-2018-gpt4\n",
      "data processing finished: ACSIncome-AZ-2018-gpt4\n",
      "data processing finished: ACSIncome-AR-2018-gpt4\n",
      "data processing finished: ACSIncome-CA-2018-gpt4\n",
      "data processing finished: ACSIncome-CO-2018-gpt4\n",
      "data processing finished: ACSIncome-CT-2018-gpt4\n",
      "data processing finished: ACSIncome-DE-2018-gpt4\n",
      "data processing finished: ACSIncome-FL-2018-gpt4\n",
      "data processing finished: ACSIncome-GA-2018-gpt4\n",
      "data processing finished: ACSIncome-HI-2018-gpt4\n",
      "data processing finished: ACSIncome-ID-2018-gpt4\n",
      "data processing finished: ACSIncome-IL-2018-gpt4\n",
      "data processing finished: ACSIncome-IN-2018-gpt4\n",
      "data processing finished: ACSIncome-IA-2018-gpt4\n",
      "data processing finished: ACSIncome-KS-2018-gpt4\n",
      "data processing finished: ACSIncome-KY-2018-gpt4\n",
      "data processing finished: ACSIncome-LA-2018-gpt4\n",
      "data processing finished: ACSIncome-ME-2018-gpt4\n",
      "data processing finished: ACSIncome-MD-2018-gpt4\n",
      "data processing finished: ACSIncome-MA-2018-gpt4\n",
      "data processing finished: ACSIncome-MI-2018-gpt4\n",
      "data processing finished: ACSIncome-MN-2018-gpt4\n",
      "data processing finished: ACSIncome-MS-2018-gpt4\n",
      "data processing finished: ACSIncome-MO-2018-gpt4\n",
      "data processing finished: ACSIncome-MT-2018-gpt4\n",
      "data processing finished: ACSIncome-NE-2018-gpt4\n",
      "data processing finished: ACSIncome-NV-2018-gpt4\n",
      "data processing finished: ACSIncome-NH-2018-gpt4\n",
      "data processing finished: ACSIncome-NJ-2018-gpt4\n",
      "data processing finished: ACSIncome-NM-2018-gpt4\n",
      "data processing finished: ACSIncome-NY-2018-gpt4\n",
      "data processing finished: ACSIncome-NC-2018-gpt4\n",
      "data processing finished: ACSIncome-ND-2018-gpt4\n",
      "data processing finished: ACSIncome-OH-2018-gpt4\n",
      "data processing finished: ACSIncome-OK-2018-gpt4\n",
      "data processing finished: ACSIncome-OR-2018-gpt4\n",
      "data processing finished: ACSIncome-PA-2018-gpt4\n",
      "data processing finished: ACSIncome-RI-2018-gpt4\n",
      "data processing finished: ACSIncome-SC-2018-gpt4\n",
      "data processing finished: ACSIncome-SD-2018-gpt4\n",
      "data processing finished: ACSIncome-TN-2018-gpt4\n",
      "data processing finished: ACSIncome-TX-2018-gpt4\n",
      "data processing finished: ACSIncome-UT-2018-gpt4\n",
      "data processing finished: ACSIncome-VT-2018-gpt4\n",
      "data processing finished: ACSIncome-VA-2018-gpt4\n",
      "data processing finished: ACSIncome-WA-2018-gpt4\n",
      "data processing finished: ACSIncome-WV-2018-gpt4\n",
      "data processing finished: ACSIncome-WI-2018-gpt4\n",
      "data processing finished: ACSIncome-WY-2018-gpt4\n",
      "data processing finished: ACSIncome-PR-2018-gpt4\n",
      "data processing finished: ACSIncome-AL-2018-domainlabel\n",
      "data processing finished: ACSIncome-AK-2018-domainlabel\n",
      "data processing finished: ACSIncome-AZ-2018-domainlabel\n",
      "data processing finished: ACSIncome-AR-2018-domainlabel\n",
      "data processing finished: ACSIncome-CA-2018-domainlabel\n",
      "data processing finished: ACSIncome-CO-2018-domainlabel\n",
      "data processing finished: ACSIncome-CT-2018-domainlabel\n",
      "data processing finished: ACSIncome-DE-2018-domainlabel\n",
      "data processing finished: ACSIncome-FL-2018-domainlabel\n",
      "data processing finished: ACSIncome-GA-2018-domainlabel\n",
      "data processing finished: ACSIncome-HI-2018-domainlabel\n",
      "data processing finished: ACSIncome-ID-2018-domainlabel\n",
      "data processing finished: ACSIncome-IL-2018-domainlabel\n",
      "data processing finished: ACSIncome-IN-2018-domainlabel\n",
      "data processing finished: ACSIncome-IA-2018-domainlabel\n",
      "data processing finished: ACSIncome-KS-2018-domainlabel\n",
      "data processing finished: ACSIncome-KY-2018-domainlabel\n",
      "data processing finished: ACSIncome-LA-2018-domainlabel\n",
      "data processing finished: ACSIncome-ME-2018-domainlabel\n",
      "data processing finished: ACSIncome-MD-2018-domainlabel\n",
      "data processing finished: ACSIncome-MA-2018-domainlabel\n",
      "data processing finished: ACSIncome-MI-2018-domainlabel\n",
      "data processing finished: ACSIncome-MN-2018-domainlabel\n",
      "data processing finished: ACSIncome-MS-2018-domainlabel\n",
      "data processing finished: ACSIncome-MO-2018-domainlabel\n",
      "data processing finished: ACSIncome-MT-2018-domainlabel\n",
      "data processing finished: ACSIncome-NE-2018-domainlabel\n",
      "data processing finished: ACSIncome-NV-2018-domainlabel\n",
      "data processing finished: ACSIncome-NH-2018-domainlabel\n",
      "data processing finished: ACSIncome-NJ-2018-domainlabel\n",
      "data processing finished: ACSIncome-NM-2018-domainlabel\n",
      "data processing finished: ACSIncome-NY-2018-domainlabel\n",
      "data processing finished: ACSIncome-NC-2018-domainlabel\n",
      "data processing finished: ACSIncome-ND-2018-domainlabel\n",
      "data processing finished: ACSIncome-OH-2018-domainlabel\n",
      "data processing finished: ACSIncome-OK-2018-domainlabel\n",
      "data processing finished: ACSIncome-OR-2018-domainlabel\n",
      "data processing finished: ACSIncome-PA-2018-domainlabel\n",
      "data processing finished: ACSIncome-RI-2018-domainlabel\n",
      "data processing finished: ACSIncome-SC-2018-domainlabel\n",
      "data processing finished: ACSIncome-SD-2018-domainlabel\n",
      "data processing finished: ACSIncome-TN-2018-domainlabel\n",
      "data processing finished: ACSIncome-TX-2018-domainlabel\n",
      "data processing finished: ACSIncome-UT-2018-domainlabel\n",
      "data processing finished: ACSIncome-VT-2018-domainlabel\n",
      "data processing finished: ACSIncome-VA-2018-domainlabel\n",
      "data processing finished: ACSIncome-WA-2018-domainlabel\n",
      "data processing finished: ACSIncome-WV-2018-domainlabel\n",
      "data processing finished: ACSIncome-WI-2018-domainlabel\n",
      "data processing finished: ACSIncome-WY-2018-domainlabel\n",
      "data processing finished: ACSIncome-PR-2018-domainlabel\n"
     ]
    }
   ],
   "source": [
    "for prompt_method in prompt_method_list:\n",
    "    for state in all_states:\n",
    "        data_processing(task_name = 'income', prompt_method=prompt_method, state = state, year = 2018, root_dir=root_dir)"
   ]
  },
  {
   "cell_type": "code",
   "execution_count": null,
   "metadata": {},
   "outputs": [],
   "source": []
  },
  {
   "cell_type": "code",
   "execution_count": 1,
   "metadata": {},
   "outputs": [],
   "source": [
    "## wikipedia info\n",
    "extra_info = {}\n",
    "extra_info[\"CA\"] = \"California's economy is the largest of any state within the United States, with a $3.6 trillion gross state product (GSP) as of 2022. It is the largest sub-national economy in the world. If California were a sovereign nation, it would rank as the world's fifth-largest economy as of 2022, just ahead of India and the United Kingdom, as well as the 37th most populous. The Greater Los Angeles area and the San Francisco area are the nation's second- and fourth-largest urban economies ($1.0 trillion and $0.6 trillion respectively as of 2020). The San Francisco Bay Area Combined Statistical Area had the nation's highest gross domestic product per capita ($106,757) among large primary statistical areas in 2018, and is home to four of the world's ten largest companies by market capitalization and four of the world's ten richest people. Slightly over 84 percent of the state's residents 25 or older hold a high school degree, the lowest high school education rate of all 50 states.\"\n",
    "extra_info[\"PR\"] = \"Puerto Rico is classified as a high income economy by the World Bank and International Monetary Fund. It is considered the most competitive economy in Latin America by the World Economic Forum and ranks highly on the Human Development Index. According to World Bank, gross national income per capita in Puerto Rico in 2020 was $21,740. Puerto Rico's economy is mainly driven by manufacturing (primarily pharmaceuticals, textiles, petrochemicals and electronics) followed by services (primarily finance, insurance, real estate and tourism); agriculture represents less than 1\\% of GNP. In recent years, it has also become a popular destination for MICE (meetings, incentives, conferencing, exhibitions), with a modern convention center district overlooking the Port of San Juan.Puerto Rico's geography and political status are both determining factors for its economic prosperity, primarily due to its relatively small size; lack of natural resources and subsequent dependence on imports; and vulnerability to U.S. foreign policy and trading restrictions, particularly concerning its shipping industry\"\n",
    "extra_info[\"TX\"] = \"As of 2022, Texas had a gross state product (GSP) of $2.4 trillion, the second highest in the U.S. Its GSP is greater than the GDP of Italy, the world's 8th-largest economy. The state ranks 22nd among U.S. states with a median household income of $64,034, while the poverty rate is 14.2%, making Texas the state with 14th highest poverty rate (compared to 13.15% nationally). Texas's economy is the second-largest of any country subdivision globally, behind California.Texas's large population, an abundance of natural resources, thriving cities and leading centers of higher education have contributed to a large and diverse economy. Since oil was discovered, the state's economy has reflected the state of the petroleum industry. In recent times, urban centers of the state have increased in size, containing two-thirds of the population in 2005. The state's economic growth has led to urban sprawl and its associated symptoms.As of May 2020, during the COVID-19 pandemic, the state's unemployment rate was 13 percent.In 2010, Site Selection Magazine ranked Texas as the most business-friendly state, in part because of the state's three-billion-dollar Texas Enterprise Fund. Texas has the highest number of Fortune 500 company headquarters in the United States as of 2022. In 2010, there were 346,000 millionaires in Texas, the second-largest population of millionaires in the nation. In 2018, the number of millionaire households increased to 566,578.\"\n",
    "extra_info[\"SD\"] = \"The current-dollar gross state product of South Dakota was $39.8 billion as of 2010, the fifth-smallest total state output in the U.S. The per capita personal income was $38,865 in 2010, ranked 25th in the U.S., and 12.5\\% of the population was below the poverty line in 2008.CNBC's list of \\\"Top States for Business for 2010\\\" has recognized South Dakota as the seventh best state in the nation. In July 2011, the state's unemployment rate was 4.7%.The service industry is the largest economic contributor in South Dakota. This sector includes the retail, finance, and health care industries.\"\n",
    "extra_info[\"NH\"] = \"The Bureau of Economic Analysis estimates that New Hampshire's total state product in 2018 was $86 billion, ranking 40th in the United States. Median household income in 2017 was $74,801, the fourth highest in the country (including Washington, DC). Its agricultural outputs are dairy products, nursery stock, cattle, apples and eggs. Its industrial outputs are machinery, electric equipment, rubber and plastic products, and tourism is a major component of the economy. New Hampshire experienced a major shift in its economic base during the 20th century. Historically, the base was composed of traditional New England textiles, shoemaking, and small machine shops, drawing upon low-wage labor from nearby small farms and parts of Quebec. Today, of the state's total manufacturing dollar value, these sectors contribute only two percent for textiles, two percent for leather goods, and nine percent for machining. They experienced a sharp decline due to obsolete plants and the lure of cheaper wages in the Southern United States. New Hampshire today has a broad-based and growing economy, with a state GDP growth rate of 2.2% in 2018. The state's largest economic sectors in 2018, based on contribution to GDP, are: 15% real estate and rental and leasing; 13% professional business services; 12% manufacturing; 10% government and government services; and 9% health care and social services. The state's budget in FY2018 was $5.97 billion, including $1.79 billion in federal funds. The issue of taxation is controversial in New Hampshire, which has a property tax (subject to municipal control) but no broad sales tax or income tax. The state does have narrower taxes on meals, lodging, vehicles, business and investment income, and tolls on state roads. According to the Energy Information Administration, New Hampshire's energy consumption and per capita energy consumption are among the lowest in the country. The Seabrook Station Nuclear Power Plant, near Portsmouth, is the largest nuclear reactor in New England and provided 57% of New Hampshire's electricity generation in 2017. Power generation from wind power increased strongly in 2012 and 2013, but remained rather flat for the next ten years at around 4% of consumption. In 2016, 2017 and at least 2019–2022, New Hampshire obtained more of its electricity generation from wind power than from coal-fired power plants. hydroelectric and power produce with wood are other important renewable resources). New Hampshire was a net exporter of electricity, exporting 63 trillion British thermal units (18 TWh). New Hampshire's residential electricity use is low compared with the national average, in part because demand for air conditioning is low during the generally mild summer months and because few households use electricity as their primary energy source for home heating. Nearly half of New Hampshire households use fuel oil for winter heating, which is one of the largest shares in the United States. New Hampshire has potential for renewable energies like wind power, hydroelectricity, and wood fuel. The state has no general sales tax and no personal state income tax (the state currently does tax, at a five percent rate, income from dividends and interest, but this tax is set to expire in 2027.) New Hampshire's lack of a broad-based tax system has resulted in the state's local jurisdictions having the 8th-highest property taxes as of a 2019 ranking by the Tax Foundation.[91] However, the state's overall tax burden is relatively low; in 2010 New Hampshire ranked 8th-lowest among states in combined average state and local tax burden. The (preliminary) seasonally unemployment rate in April 2019 was 2.4% based on a 767,500 person civilian workforce with 749,000 people in employment. New Hampshire's workforce is 90% in nonfarm employment, with 18% employed in trade, transportation, and utilities; 17% in education and health care; 12% in government; 11% in professional and business services; and 10% in leisure and hospitality.\"\n",
    "extra_info['ID'] = \"As of 2016, the state's total employment was 562,282, and the total employer establishments were 45,826. Gross state product for 2015 was $64.9 billion, and the per capita income based on 2015 GDP and 2015 population estimates was $39,100. Important industries in Idaho are food processing, lumber and wood products, machinery, chemical products, paper products, electronics manufacturing, silver and other mining, and tourism. The world's largest factory for barrel cheese, the raw product for processed cheese, is in Gooding, Idaho. It has a capacity of 120,000 metric tons per year of barrel cheese and belongs to the Glanbia group. Hewlett-Packard has operated a large plant in Boise since the 1970s, which is devoted primarily to LaserJet printers production. Idaho has a state gambling lottery, which contributed $333.5 million in payments to all Idaho public schools and Idaho higher education from 1990 to 2006.\"\n",
    "extra_info['HI'] = \"The history of Hawaii's economy can be traced through a succession of dominant industries: sandalwood, whaling, sugarcane, pineapple, the military, tourism and education. By the 1840s, sugar plantations had gained a strong foothold in the Hawaiian economy, due to a high demand of sugar in the United States and rapid transport via steamships. Sugarcane plantations were tightly controlled by American missionary families and businessmen known as 'the Big Five', who monopolized control of the sugar industry's profits. By the time Hawaiian annexation was being considered in 1898, sugarcane producers turned to cultivating tropical fruits like pineapple, which became the principal export for Hawaiʻi's plantation economy. Since statehood in 1959, tourism has been the largest industry, contributing 24.3% of the gross state product (GSP) in 1997, despite efforts to diversify. The state's gross output for 2003 was US$47 billion; per capita income for Hawaii residents in 2014 was US$54,516. Hawaiian exports include food and clothing. These industries play a small role in the Hawaiian economy, due to the shipping distance to viable markets, such as the West Coast of the United States. The state's food exports include coffee, macadamia nuts, pineapple, livestock, sugarcane and honey. By weight, honey bees may be the state's most valuable export. According to the Hawaii Agricultural Statistics Service, agricultural sales were US$370.9 million from diversified agriculture, US$100.6 million from pineapple, and US$64.3 million from sugarcane. Hawaii's relatively consistent climate has attracted the seed industry, which is able to test three generations of crops per year on the islands, compared with one or two on the mainland. Seeds yielded US$264 million in 2012, supporting 1,400 workers. As of December 2015, the state's unemployment rate was 3.2%. In 2009, the United States military spent US$12.2 billion in Hawaii, accounting for 18% of spending in the state for that year. 75,000 United States Department of Defense personnel live in Hawaii. According to a 2013 study by Phoenix Marketing International, Hawaii at that time had the fourth-largest number of millionaires per capita in the United States, with a ratio of 7.2%.\"\n",
    "extra_info['TN'] = \"As of 2021, Tennessee had a gross state product of $418.3 billion. In 2020, the state's per capita personal income was $30,869. The median household income was $54,833. About 13.6% percent of the population was below the poverty line. In 2019, the state reported a total employment of 2,724,545 and a total number of 139,760 employer establishments. Tennessee is a right-to-work state, like most of its Southern neighbors. Unionization has historically been low and continues to decline, as in most of the U.S.\"\n",
    "extra_info['AZ'] = \"The 2020 total gross state product was $373 billion. The composition of the state's economy is moderately diverse, although health care, transportation and the government remain the largest sectors. The state's per capita income is $40,828, ranking 39th in the U.S. The state had a median household income of $50,448, making it 22nd in the country and just below the U.S. national mean. Early in its history, Arizona's economy relied on the 'five C's': copper (see Copper mining in Arizona), cotton, cattle, citrus, and climate (tourism). Copper is still extensively mined from many expansive open-pit and underground mines, accounting for two-thirds of the nation's output.\""
   ]
  }
 ],
 "metadata": {
  "kernelspec": {
   "display_name": "yz3587",
   "language": "python",
   "name": "python3"
  },
  "language_info": {
   "codemirror_mode": {
    "name": "ipython",
    "version": 3
   },
   "file_extension": ".py",
   "mimetype": "text/x-python",
   "name": "python",
   "nbconvert_exporter": "python",
   "pygments_lexer": "ipython3",
   "version": "3.1.undefined"
  }
 },
 "nbformat": 4,
 "nbformat_minor": 2
}
