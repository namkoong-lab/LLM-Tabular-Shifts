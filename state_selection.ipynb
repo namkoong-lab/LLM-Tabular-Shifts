{
 "cells": [
  {
   "cell_type": "code",
   "execution_count": 1,
   "metadata": {},
   "outputs": [],
   "source": [
    "import pandas as pd\n",
    "import numpy as np"
   ]
  },
  {
   "cell_type": "code",
   "execution_count": 2,
   "metadata": {},
   "outputs": [],
   "source": [
    "s = 'AL,AK,AZ,AR,CA,CO,CT,DE,FL,GA,HI,ID,IL,IN,IA,KS,KY,LA,ME,MD,MA,MI,MN,MS,MO,MT,NE,NV,NH,NJ,NM,NY,NC,ND,OH,OK,OR,PA,RI,SC,SD,TN,TX,UT,VT,VA,WA,WV,WI,WY'\n",
    "all_states = s.split(',')"
   ]
  },
  {
   "cell_type": "markdown",
   "metadata": {},
   "source": [
    "### random"
   ]
  },
  {
   "cell_type": "code",
   "execution_count": 3,
   "metadata": {},
   "outputs": [
    {
     "name": "stdout",
     "output_type": "stream",
     "text": [
      "['NH' 'ID' 'HI' 'TN' 'AZ']\n"
     ]
    }
   ],
   "source": [
    "np.random.seed(0)\n",
    "# Select 5 random integers from the list without repetition\n",
    "selected_state_list1 = np.random.choice(all_states, size=5, replace=False)\n",
    "print(selected_state_list1 )"
   ]
  },
  {
   "cell_type": "code",
   "execution_count": 4,
   "metadata": {},
   "outputs": [
    {
     "name": "stdout",
     "output_type": "stream",
     "text": [
      "['NV' 'OK' 'SD' 'RI' 'AZ']\n"
     ]
    }
   ],
   "source": [
    "np.random.seed(1)\n",
    "# Select 5 random integers from the list without repetition\n",
    "selected_state_list2 = np.random.choice(all_states, size=5, replace=False)\n",
    "print(selected_state_list2)"
   ]
  },
  {
   "cell_type": "markdown",
   "metadata": {},
   "source": [
    "### Select by population"
   ]
  },
  {
   "cell_type": "code",
   "execution_count": 5,
   "metadata": {},
   "outputs": [
    {
     "name": "stdout",
     "output_type": "stream",
     "text": [
      "['CA', 'TX', 'FL', 'NY', 'PA']\n"
     ]
    }
   ],
   "source": [
    "selected_state_list3 = [\"CA\", 'TX', 'FL', 'NY', 'PA']\n",
    "print(selected_state_list3)"
   ]
  },
  {
   "cell_type": "markdown",
   "metadata": {},
   "source": [
    "### Select by GDP"
   ]
  },
  {
   "cell_type": "code",
   "execution_count": 6,
   "metadata": {},
   "outputs": [
    {
     "name": "stdout",
     "output_type": "stream",
     "text": [
      "['MS', 'MO', 'OR', 'TX', 'NY']\n"
     ]
    }
   ],
   "source": [
    "# GDP per capita data for each state in 2018\n",
    "data = {\n",
    "    \"state\": [\"AL\", \"AK\", \"AZ\", \"AR\", \"CA\", \"CO\", \"CT\", \"DE\", \"FL\", \"GA\",\n",
    "              \"HI\", \"ID\", \"IL\", \"IN\", \"IA\", \"KS\", \"KY\", \"LA\", \"ME\", \"MD\",\n",
    "              \"MA\", \"MI\", \"MN\", \"MS\", \"MO\", \"MT\", \"NE\", \"NV\", \"NH\", \"NJ\",\n",
    "              \"NM\", \"NY\", \"NC\", \"ND\", \"OH\", \"OK\", \"OR\", \"PA\", \"RI\", \"SC\",\n",
    "              \"SD\", \"TN\", \"TX\", \"UT\", \"VT\", \"VA\", \"WA\", \"WV\", \"WI\", \"WY\"],\n",
    "    \"GDP Per Capita\": [\n",
    "        40598, 71996, 43464, 38919, 68803, 59885, 68555, 64895, 43423, 50288, \n",
    "        58185, 40189, 60419, 49209, 54520, 53094, 41898, 50938, 42925, 61042, \n",
    "        73321, 47072, 59510, 34434, 46507, 43509, 59178, 49361, 55905, 62385, \n",
    "        44728, 73463, 47896, 69563, 51790, 49840, 51677, 55580, 50718, 40755, \n",
    "        52696, 47810, 59674, 50236, 47502, 56002, 67901, 39584, 51883, 65842]\n",
    "}\n",
    "gdp_df = pd.DataFrame(data)\n",
    "# sort by gdp\n",
    "gdp_df = gdp_df.sort_values(by='GDP Per Capita')\n",
    "# select source state\n",
    "selected_idx_list = np.floor(np.linspace(0, 49, 5)).astype(int)\n",
    "selected_state_list4 = gdp_df.iloc[selected_idx_list]['state'].tolist()\n",
    "print(selected_state_list4)"
   ]
  },
  {
   "cell_type": "code",
   "execution_count": null,
   "metadata": {},
   "outputs": [],
   "source": []
  }
 ],
 "metadata": {
  "kernelspec": {
   "display_name": "sftpy310",
   "language": "python",
   "name": "python3"
  },
  "language_info": {
   "codemirror_mode": {
    "name": "ipython",
    "version": 3
   },
   "file_extension": ".py",
   "mimetype": "text/x-python",
   "name": "python",
   "nbconvert_exporter": "python",
   "pygments_lexer": "ipython3",
   "version": "3.10.12"
  }
 },
 "nbformat": 4,
 "nbformat_minor": 2
}
